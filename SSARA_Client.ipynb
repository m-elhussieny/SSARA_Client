{
 "cells": [
  {
   "cell_type": "code",
   "execution_count": null,
   "id": "96bf6cce",
   "metadata": {},
   "outputs": [],
   "source": [
    "# importing libraries\n",
    "import zipfile\n",
    "import glob\n",
    "import os\n",
    "from shutil import move"
   ]
  },
  {
   "cell_type": "markdown",
   "id": "c216085e",
   "metadata": {},
   "source": [
    "## Some examples of using SSARA_client to download SAR Data"
   ]
  },
  {
   "cell_type": "code",
   "execution_count": null,
   "id": "ebe774ab",
   "metadata": {},
   "outputs": [],
   "source": [
    "!ssara_federated_query.py --platform=sentinel-1B,sentinel-1A \\\n",
    "--relativeOrbit=71 -s 2020-05-11 -e 2020-05-18 \\\n",
    "--intersectsWith='POLYGON((-118.2093 38.0347,-117.6875 38.0347,-117.6875 38.3268,-118.2093 38.3268,-118.2093 38.0347))'\\\n",
    "--print"
   ]
  },
  {
   "cell_type": "code",
   "execution_count": null,
   "id": "2094bad0",
   "metadata": {},
   "outputs": [],
   "source": [
    "!ssara_federated_query.py --platform=UAVSAR --relativeOrbit=05901 --processingLevel='INTERFEROMETRY' --intersectsWith='POINT(-155.3 19.4)' --print"
   ]
  },
  {
   "cell_type": "code",
   "execution_count": null,
   "id": "316dd0de",
   "metadata": {},
   "outputs": [],
   "source": [
    "!ssara_federated_query.py --platform=sentinel-1B,sentinel-1A \\\n",
    "--relativeOrbit=71 -s 2020-05-11 -e 2020-05-18 \\\n",
    "--intersectsWith='POLYGON((-118.2093 38.0347,-117.6875 38.0347,-117.6875 38.3268,-118.2093 38.3268,-118.2093 38.0347))'\\\n",
    "--kml\n"
   ]
  },
  {
   "cell_type": "code",
   "execution_count": null,
   "id": "8ae2b0ed",
   "metadata": {},
   "outputs": [],
   "source": [
    "!ssara_federated_query.py --platform=sentinel-1B,sentinel-1A \\\n",
    "--relativeOrbit=71 -s \"2020-05-11\" -e \"2020-05-18\" \\\n",
    "--intersectsWith='POLYGON((-118.2093 38.0347,-117.6875 38.0347,-117.6875 38.3268,-118.2093 38.3268,-118.2093 38.0347))' \\\n",
    "--print"
   ]
  },
  {
   "cell_type": "code",
   "execution_count": null,
   "id": "ff91ae1c",
   "metadata": {},
   "outputs": [],
   "source": [
    "!ssara_federated_query.py --platform=sentinel-1B,sentinel-1A \\\n",
    "--relativeOrbit=143 -s 2020-05-11 -e 2020-05-18 \\\n",
    "--intersectsWith='POINT(-97.5 22.5)' \\\n",
    "--print"
   ]
  },
  {
   "cell_type": "markdown",
   "id": "321297ab",
   "metadata": {},
   "source": [
    "## The orbit file are downloaded from this [site](http://step.esa.int/)"
   ]
  },
  {
   "cell_type": "code",
   "execution_count": null,
   "id": "7444f4cd",
   "metadata": {},
   "outputs": [],
   "source": [
    "!ssara_federated_query.py --platform=sentinel-1B,sentinel-1A \\\n",
    "--relativeOrbit=71 -s \"2020-05-11\" -e \"2020-05-18\" \\\n",
    "--intersectsWith='POLYGON((-118.2093 38.0347,-117.6875 38.0347,-117.6875 38.3268,-118.2093 38.3268,-118.2093 38.0347))' \\\n",
    "--print --s1orbits"
   ]
  },
  {
   "cell_type": "code",
   "execution_count": null,
   "id": "cbc71f38",
   "metadata": {},
   "outputs": [],
   "source": [
    "# directory in which the download occurs\n",
    "if 'tutorial_home_dir' not in globals():\n",
    "    download_dir = os.getcwd()\n",
    "print(\"Download Directory: \", download_dir)\n",
    "\n",
    "orb_files = glob.glob(\"*.EOF.zip\")\n",
    "\n",
    "tmp_dir = os.path.join(download_dir,\"tmp/\")\n",
    "tmp_exists = False\n",
    "if os.path.exists(tmp_dir):\n",
    "    tmp_exists = True\n",
    "\n",
    "for orb in orb_files:\n",
    "    orb_file_dir = os.path.join(download_dir, orb)\n",
    "    orb_file = os.path.splitext(orb)[0]\n",
    "    \n",
    "    tmp_file = os.path.join(tmp_dir, orb_file)\n",
    "    if not os.path.exists(os.path.join(download_dir, orb_file)):\n",
    "        with zipfile.ZipFile(orb_file_dir, 'r') as zip_ref:\n",
    "            zip_ref.extractall()\n",
    "            print(f\"Extracting: {orb} >>> {os.path.join(download_dir,orb_file)}\")\n",
    "\n",
    "        move(tmp_file, download_dir)\n",
    "        if not tmp_exists:\n",
    "            os.rmdir(tmp_dir)"
   ]
  }
 ],
 "metadata": {
  "kernelspec": {
   "display_name": "Python 3",
   "language": "python",
   "name": "python3"
  },
  "language_info": {
   "codemirror_mode": {
    "name": "ipython",
    "version": 3
   },
   "file_extension": ".py",
   "mimetype": "text/x-python",
   "name": "python",
   "nbconvert_exporter": "python",
   "pygments_lexer": "ipython3",
   "version": "3.8.5"
  }
 },
 "nbformat": 4,
 "nbformat_minor": 5
}
